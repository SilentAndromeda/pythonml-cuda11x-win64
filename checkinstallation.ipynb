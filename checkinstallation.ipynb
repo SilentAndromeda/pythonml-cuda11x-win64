{
 "cells": [
  {
   "cell_type": "markdown",
   "id": "1fe0763f-767f-4339-bb18-f4bf72a6a8f3",
   "metadata": {},
   "source": [
    "# Verify If GPU Is Detected By TensorFlow"
   ]
  },
  {
   "cell_type": "code",
   "execution_count": 1,
   "id": "9eca4b4b-ee5c-43fe-8778-84cd55fd7ee9",
   "metadata": {},
   "outputs": [
    {
     "name": "stdout",
     "output_type": "stream",
     "text": [
      "TensorFlow Version: 2.6.0.\n",
      "[PhysicalDevice(name='/physical_device:GPU:0', device_type='GPU')]\n"
     ]
    }
   ],
   "source": [
    "import tensorflow as tf\n",
    "print('TensorFlow Version: {}.'.format(tf.__version__))\n",
    "print(tf.config.list_physical_devices('GPU'))"
   ]
  },
  {
   "cell_type": "markdown",
   "id": "e780d702-faa8-4599-bc8b-e3bfc5dad18d",
   "metadata": {},
   "source": [
    "# Verify If GPU Is Detected By TensorFlow"
   ]
  },
  {
   "cell_type": "code",
   "execution_count": 2,
   "id": "81893acc-3fc7-41b0-8bba-d5f827bd5861",
   "metadata": {},
   "outputs": [
    {
     "name": "stdout",
     "output_type": "stream",
     "text": [
      "PyTorch Version: 1.12.1.\n",
      "GPU Available: True.\n"
     ]
    }
   ],
   "source": [
    "import torch\n",
    "print('PyTorch Version: {}.'.format(torch.__version__))\n",
    "print('GPU Available: {}.'.format(torch.cuda.is_available()))"
   ]
  },
  {
   "cell_type": "markdown",
   "id": "d3b17b8b-243e-4bda-8ebd-ce9fc900e595",
   "metadata": {},
   "source": [
    "# Verify If Keras is Installed"
   ]
  },
  {
   "cell_type": "code",
   "execution_count": 3,
   "id": "2e196cc0-03a4-427b-9b18-bfff6273daae",
   "metadata": {},
   "outputs": [
    {
     "name": "stdout",
     "output_type": "stream",
     "text": [
      "Keras Version: 2.6.0.\n"
     ]
    }
   ],
   "source": [
    "import keras\n",
    "print('Keras Version: {}.'.format(keras.__version__))"
   ]
  },
  {
   "cell_type": "markdown",
   "id": "3a7740b0-889e-4ca4-9caf-f1fadd23d956",
   "metadata": {},
   "source": [
    "# Verify If SciKit-Learn and NLTK are Installed "
   ]
  },
  {
   "cell_type": "code",
   "execution_count": 4,
   "id": "569cc2b4-c9d4-45c4-be5f-08036e35bfaf",
   "metadata": {},
   "outputs": [
    {
     "name": "stdout",
     "output_type": "stream",
     "text": [
      "Scikit-learn Version: 1.4.1.post1.\n",
      "NLTK Version : 3.8.1.\n"
     ]
    }
   ],
   "source": [
    "import nltk\n",
    "import sklearn\n",
    "\n",
    "print('Scikit-learn Version: {}.'.format(sklearn.__version__))\n",
    "print('NLTK Version : {}.'.format(nltk.__version__))\n"
   ]
  }
 ],
 "metadata": {
  "kernelspec": {
   "display_name": "Python 3 (ipykernel)",
   "language": "python",
   "name": "python3"
  },
  "language_info": {
   "codemirror_mode": {
    "name": "ipython",
    "version": 3
   },
   "file_extension": ".py",
   "mimetype": "text/x-python",
   "name": "python",
   "nbconvert_exporter": "python",
   "pygments_lexer": "ipython3",
   "version": "3.9.18"
  }
 },
 "nbformat": 4,
 "nbformat_minor": 5
}
